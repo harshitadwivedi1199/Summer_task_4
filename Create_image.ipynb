{
 "cells": [
  {
   "cell_type": "code",
   "execution_count": null,
   "metadata": {},
   "outputs": [],
   "source": [
    "import cv2\n",
    "import numpy as np"
   ]
  },
  {
   "cell_type": "code",
   "execution_count": null,
   "metadata": {},
   "outputs": [],
   "source": [
    "image1 = np.zeros((500,500,3))"
   ]
  },
  {
   "cell_type": "code",
   "execution_count": null,
   "metadata": {},
   "outputs": [],
   "source": [
    "# Using cv2.circle() method\n",
    "\n",
    "cv2.circle(image1,(250,250), 180, (0,255,255), -1)\n",
    "cv2.ellipse(image1, (180,180), (20,40),0, 0, 360, (0, 0, 0), -1)\n",
    "#cv2.circle(image, (180,180), 10, (0, 0, 0), 5)\n",
    "cv2.ellipse(image1, (310,180), (20,40),0, 0, 360, (0, 0, 0), -1)\n",
    "#cv2.circle(image, (310,180), 10, (0, 0, 0), 5)\n",
    "radius=50\n",
    "axes = (100,100)\n",
    "angle=0;\n",
    "startAngle=30;\n",
    "endAngle=150;\n",
    "center=(250,280)\n",
    "color=(0, 0, 0)\n",
    "cv2.ellipse(image1, center, axes, angle, startAngle, endAngle, color, 10)\n",
    "#cv2.line(image, (190,310), (310,310), (0, 255, 0),10)\n",
    "cv2.imshow(\"Happy\",image1)\n",
    "cv2.waitKey(10)\n",
    "cv2.destroyAllWindows()"
   ]
  },
  {
   "cell_type": "code",
   "execution_count": null,
   "metadata": {},
   "outputs": [],
   "source": [
    "\n",
    "image2 = np.zeros((500,500,3))\n",
    "# Using cv2.circle() method\n",
    "cv2.circle(image2,(250,250), 180, (0,255,255), -1)\n",
    "cv2.ellipse(image2, (180,180), (20,40),0, 0, 360, (0, 0, 0), -1)\n",
    "#cv2.circle(image, (180,180), 10, (0, 0, 0), 5)\n",
    "cv2.ellipse(image2, (310,180), (20,40),0, 0, 360, (0, 0, 0), -1)\n",
    "#cv2.circle(image, (310,180), 10, (0, 0, 0), 5)\n",
    "radius=50\n",
    "axes = (100,100)\n",
    "angle=0;\n",
    "startAngle=210;\n",
    "endAngle=180+150;\n",
    "center=(250,380)\n",
    "color=(0, 0, 0)\n",
    "cv2.ellipse(image2, center, axes, angle, startAngle, endAngle, color, 10)\n",
    "#cv2.line(image, (190,310), (310,310), (0, 255, 0),10)\n",
    "cv2.imshow(\"sad\",image2)\n",
    "cv2.waitKey(10)\n",
    "cv2.destroyAllWindows()\n"
   ]
  },
  {
   "cell_type": "code",
   "execution_count": null,
   "metadata": {},
   "outputs": [],
   "source": [
    "no=1\n",
    "while True:\n",
    "    if no%2==0:\n",
    "        cv2.imshow(\"image2\",image2)\n",
    "        cv2.waitKey(3000)\n",
    "        cv2.destroyAllWindows()\n",
    "    else:\n",
    "        cv2.imshow(\"image1\",image1)\n",
    "        cv2.waitKey(3000)\n",
    "        cv2.destroyAllWindows()\n",
    "    no = no + 1\n",
    "cv2.destroyAllWindows()\n",
    "\n",
    "'''\n",
    "    cv2.imshow(\"\",image1)\n",
    "    cv2.waitKey(3000)\n",
    "    cv2.destroyAllWindows() \n",
    "    cv2.imshow(\"\",image2)\n",
    "    cv2.waitKey(3000)\n",
    "    cv2.destroyAllWindows()    \n",
    "'''"
   ]
  },
  {
   "cell_type": "code",
   "execution_count": null,
   "metadata": {},
   "outputs": [],
   "source": []
  },
  {
   "cell_type": "code",
   "execution_count": null,
   "metadata": {},
   "outputs": [],
   "source": []
  },
  {
   "cell_type": "code",
   "execution_count": null,
   "metadata": {},
   "outputs": [],
   "source": []
  }
 ],
 "metadata": {
  "kernelspec": {
   "display_name": "Python 3",
   "language": "python",
   "name": "python3"
  },
  "language_info": {
   "codemirror_mode": {
    "name": "ipython",
    "version": 3
   },
   "file_extension": ".py",
   "mimetype": "text/x-python",
   "name": "python",
   "nbconvert_exporter": "python",
   "pygments_lexer": "ipython3",
   "version": "3.8.3"
  }
 },
 "nbformat": 4,
 "nbformat_minor": 4
}
